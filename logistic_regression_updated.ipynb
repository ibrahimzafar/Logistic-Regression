{
  "nbformat": 4,
  "nbformat_minor": 0,
  "metadata": {
    "kernelspec": {
      "name": "python3",
      "display_name": "Python 3"
    },
    "language_info": {
      "codemirror_mode": {
        "name": "ipython",
        "version": 3
      },
      "file_extension": ".py",
      "mimetype": "text/x-python",
      "name": "python",
      "nbconvert_exporter": "python",
      "pygments_lexer": "ipython3",
      "version": "3.6.2"
    },
    "colab": {
      "name": "logistic_regression_updated.ipynb",
      "provenance": [],
      "toc_visible": true
    },
    "accelerator": "GPU"
  },
  "cells": [
    {
      "cell_type": "markdown",
      "metadata": {
        "id": "Gh0e6kQKO83k",
        "colab_type": "text"
      },
      "source": [
        "# Logistic Regression"
      ]
    },
    {
      "cell_type": "code",
      "metadata": {
        "id": "wOXLCTHf6CtE",
        "colab_type": "code",
        "colab": {}
      },
      "source": [
        "%matplotlib inline\n",
        "import numpy as np\n",
        "import matplotlib.pyplot as plt\n",
        "import seaborn as sns\n",
        "import pandas as pd"
      ],
      "execution_count": 0,
      "outputs": []
    },
    {
      "cell_type": "code",
      "metadata": {
        "id": "yJ2n3Dti6FgL",
        "colab_type": "code",
        "outputId": "b7f7b52a-58dd-416c-d921-a7a9643977f6",
        "colab": {
          "resources": {
            "http://localhost:8080/nbextensions/google.colab/files.js": {
              "data": "Ly8gQ29weXJpZ2h0IDIwMTcgR29vZ2xlIExMQwovLwovLyBMaWNlbnNlZCB1bmRlciB0aGUgQXBhY2hlIExpY2Vuc2UsIFZlcnNpb24gMi4wICh0aGUgIkxpY2Vuc2UiKTsKLy8geW91IG1heSBub3QgdXNlIHRoaXMgZmlsZSBleGNlcHQgaW4gY29tcGxpYW5jZSB3aXRoIHRoZSBMaWNlbnNlLgovLyBZb3UgbWF5IG9idGFpbiBhIGNvcHkgb2YgdGhlIExpY2Vuc2UgYXQKLy8KLy8gICAgICBodHRwOi8vd3d3LmFwYWNoZS5vcmcvbGljZW5zZXMvTElDRU5TRS0yLjAKLy8KLy8gVW5sZXNzIHJlcXVpcmVkIGJ5IGFwcGxpY2FibGUgbGF3IG9yIGFncmVlZCB0byBpbiB3cml0aW5nLCBzb2Z0d2FyZQovLyBkaXN0cmlidXRlZCB1bmRlciB0aGUgTGljZW5zZSBpcyBkaXN0cmlidXRlZCBvbiBhbiAiQVMgSVMiIEJBU0lTLAovLyBXSVRIT1VUIFdBUlJBTlRJRVMgT1IgQ09ORElUSU9OUyBPRiBBTlkgS0lORCwgZWl0aGVyIGV4cHJlc3Mgb3IgaW1wbGllZC4KLy8gU2VlIHRoZSBMaWNlbnNlIGZvciB0aGUgc3BlY2lmaWMgbGFuZ3VhZ2UgZ292ZXJuaW5nIHBlcm1pc3Npb25zIGFuZAovLyBsaW1pdGF0aW9ucyB1bmRlciB0aGUgTGljZW5zZS4KCi8qKgogKiBAZmlsZW92ZXJ2aWV3IEhlbHBlcnMgZm9yIGdvb2dsZS5jb2xhYiBQeXRob24gbW9kdWxlLgogKi8KKGZ1bmN0aW9uKHNjb3BlKSB7CmZ1bmN0aW9uIHNwYW4odGV4dCwgc3R5bGVBdHRyaWJ1dGVzID0ge30pIHsKICBjb25zdCBlbGVtZW50ID0gZG9jdW1lbnQuY3JlYXRlRWxlbWVudCgnc3BhbicpOwogIGVsZW1lbnQudGV4dENvbnRlbnQgPSB0ZXh0OwogIGZvciAoY29uc3Qga2V5IG9mIE9iamVjdC5rZXlzKHN0eWxlQXR0cmlidXRlcykpIHsKICAgIGVsZW1lbnQuc3R5bGVba2V5XSA9IHN0eWxlQXR0cmlidXRlc1trZXldOwogIH0KICByZXR1cm4gZWxlbWVudDsKfQoKLy8gTWF4IG51bWJlciBvZiBieXRlcyB3aGljaCB3aWxsIGJlIHVwbG9hZGVkIGF0IGEgdGltZS4KY29uc3QgTUFYX1BBWUxPQURfU0laRSA9IDEwMCAqIDEwMjQ7Ci8vIE1heCBhbW91bnQgb2YgdGltZSB0byBibG9jayB3YWl0aW5nIGZvciB0aGUgdXNlci4KY29uc3QgRklMRV9DSEFOR0VfVElNRU9VVF9NUyA9IDMwICogMTAwMDsKCmZ1bmN0aW9uIF91cGxvYWRGaWxlcyhpbnB1dElkLCBvdXRwdXRJZCkgewogIGNvbnN0IHN0ZXBzID0gdXBsb2FkRmlsZXNTdGVwKGlucHV0SWQsIG91dHB1dElkKTsKICBjb25zdCBvdXRwdXRFbGVtZW50ID0gZG9jdW1lbnQuZ2V0RWxlbWVudEJ5SWQob3V0cHV0SWQpOwogIC8vIENhY2hlIHN0ZXBzIG9uIHRoZSBvdXRwdXRFbGVtZW50IHRvIG1ha2UgaXQgYXZhaWxhYmxlIGZvciB0aGUgbmV4dCBjYWxsCiAgLy8gdG8gdXBsb2FkRmlsZXNDb250aW51ZSBmcm9tIFB5dGhvbi4KICBvdXRwdXRFbGVtZW50LnN0ZXBzID0gc3RlcHM7CgogIHJldHVybiBfdXBsb2FkRmlsZXNDb250aW51ZShvdXRwdXRJZCk7Cn0KCi8vIFRoaXMgaXMgcm91Z2hseSBhbiBhc3luYyBnZW5lcmF0b3IgKG5vdCBzdXBwb3J0ZWQgaW4gdGhlIGJyb3dzZXIgeWV0KSwKLy8gd2hlcmUgdGhlcmUgYXJlIG11bHRpcGxlIGFzeW5jaHJvbm91cyBzdGVwcyBhbmQgdGhlIFB5dGhvbiBzaWRlIGlzIGdvaW5nCi8vIHRvIHBvbGwgZm9yIGNvbXBsZXRpb24gb2YgZWFjaCBzdGVwLgovLyBUaGlzIHVzZXMgYSBQcm9taXNlIHRvIGJsb2NrIHRoZSBweXRob24gc2lkZSBvbiBjb21wbGV0aW9uIG9mIGVhY2ggc3RlcCwKLy8gdGhlbiBwYXNzZXMgdGhlIHJlc3VsdCBvZiB0aGUgcHJldmlvdXMgc3RlcCBhcyB0aGUgaW5wdXQgdG8gdGhlIG5leHQgc3RlcC4KZnVuY3Rpb24gX3VwbG9hZEZpbGVzQ29udGludWUob3V0cHV0SWQpIHsKICBjb25zdCBvdXRwdXRFbGVtZW50ID0gZG9jdW1lbnQuZ2V0RWxlbWVudEJ5SWQob3V0cHV0SWQpOwogIGNvbnN0IHN0ZXBzID0gb3V0cHV0RWxlbWVudC5zdGVwczsKCiAgY29uc3QgbmV4dCA9IHN0ZXBzLm5leHQob3V0cHV0RWxlbWVudC5sYXN0UHJvbWlzZVZhbHVlKTsKICByZXR1cm4gUHJvbWlzZS5yZXNvbHZlKG5leHQudmFsdWUucHJvbWlzZSkudGhlbigodmFsdWUpID0+IHsKICAgIC8vIENhY2hlIHRoZSBsYXN0IHByb21pc2UgdmFsdWUgdG8gbWFrZSBpdCBhdmFpbGFibGUgdG8gdGhlIG5leHQKICAgIC8vIHN0ZXAgb2YgdGhlIGdlbmVyYXRvci4KICAgIG91dHB1dEVsZW1lbnQubGFzdFByb21pc2VWYWx1ZSA9IHZhbHVlOwogICAgcmV0dXJuIG5leHQudmFsdWUucmVzcG9uc2U7CiAgfSk7Cn0KCi8qKgogKiBHZW5lcmF0b3IgZnVuY3Rpb24gd2hpY2ggaXMgY2FsbGVkIGJldHdlZW4gZWFjaCBhc3luYyBzdGVwIG9mIHRoZSB1cGxvYWQKICogcHJvY2Vzcy4KICogQHBhcmFtIHtzdHJpbmd9IGlucHV0SWQgRWxlbWVudCBJRCBvZiB0aGUgaW5wdXQgZmlsZSBwaWNrZXIgZWxlbWVudC4KICogQHBhcmFtIHtzdHJpbmd9IG91dHB1dElkIEVsZW1lbnQgSUQgb2YgdGhlIG91dHB1dCBkaXNwbGF5LgogKiBAcmV0dXJuIHshSXRlcmFibGU8IU9iamVjdD59IEl0ZXJhYmxlIG9mIG5leHQgc3RlcHMuCiAqLwpmdW5jdGlvbiogdXBsb2FkRmlsZXNTdGVwKGlucHV0SWQsIG91dHB1dElkKSB7CiAgY29uc3QgaW5wdXRFbGVtZW50ID0gZG9jdW1lbnQuZ2V0RWxlbWVudEJ5SWQoaW5wdXRJZCk7CiAgaW5wdXRFbGVtZW50LmRpc2FibGVkID0gZmFsc2U7CgogIGNvbnN0IG91dHB1dEVsZW1lbnQgPSBkb2N1bWVudC5nZXRFbGVtZW50QnlJZChvdXRwdXRJZCk7CiAgb3V0cHV0RWxlbWVudC5pbm5lckhUTUwgPSAnJzsKCiAgY29uc3QgcGlja2VkUHJvbWlzZSA9IG5ldyBQcm9taXNlKChyZXNvbHZlKSA9PiB7CiAgICBpbnB1dEVsZW1lbnQuYWRkRXZlbnRMaXN0ZW5lcignY2hhbmdlJywgKGUpID0+IHsKICAgICAgcmVzb2x2ZShlLnRhcmdldC5maWxlcyk7CiAgICB9KTsKICB9KTsKCiAgY29uc3QgY2FuY2VsID0gZG9jdW1lbnQuY3JlYXRlRWxlbWVudCgnYnV0dG9uJyk7CiAgaW5wdXRFbGVtZW50LnBhcmVudEVsZW1lbnQuYXBwZW5kQ2hpbGQoY2FuY2VsKTsKICBjYW5jZWwudGV4dENvbnRlbnQgPSAnQ2FuY2VsIHVwbG9hZCc7CiAgY29uc3QgY2FuY2VsUHJvbWlzZSA9IG5ldyBQcm9taXNlKChyZXNvbHZlKSA9PiB7CiAgICBjYW5jZWwub25jbGljayA9ICgpID0+IHsKICAgICAgcmVzb2x2ZShudWxsKTsKICAgIH07CiAgfSk7CgogIC8vIENhbmNlbCB1cGxvYWQgaWYgdXNlciBoYXNuJ3QgcGlja2VkIGFueXRoaW5nIGluIHRpbWVvdXQuCiAgY29uc3QgdGltZW91dFByb21pc2UgPSBuZXcgUHJvbWlzZSgocmVzb2x2ZSkgPT4gewogICAgc2V0VGltZW91dCgoKSA9PiB7CiAgICAgIHJlc29sdmUobnVsbCk7CiAgICB9LCBGSUxFX0NIQU5HRV9USU1FT1VUX01TKTsKICB9KTsKCiAgLy8gV2FpdCBmb3IgdGhlIHVzZXIgdG8gcGljayB0aGUgZmlsZXMuCiAgY29uc3QgZmlsZXMgPSB5aWVsZCB7CiAgICBwcm9taXNlOiBQcm9taXNlLnJhY2UoW3BpY2tlZFByb21pc2UsIHRpbWVvdXRQcm9taXNlLCBjYW5jZWxQcm9taXNlXSksCiAgICByZXNwb25zZTogewogICAgICBhY3Rpb246ICdzdGFydGluZycsCiAgICB9CiAgfTsKCiAgaWYgKCFmaWxlcykgewogICAgcmV0dXJuIHsKICAgICAgcmVzcG9uc2U6IHsKICAgICAgICBhY3Rpb246ICdjb21wbGV0ZScsCiAgICAgIH0KICAgIH07CiAgfQoKICBjYW5jZWwucmVtb3ZlKCk7CgogIC8vIERpc2FibGUgdGhlIGlucHV0IGVsZW1lbnQgc2luY2UgZnVydGhlciBwaWNrcyBhcmUgbm90IGFsbG93ZWQuCiAgaW5wdXRFbGVtZW50LmRpc2FibGVkID0gdHJ1ZTsKCiAgZm9yIChjb25zdCBmaWxlIG9mIGZpbGVzKSB7CiAgICBjb25zdCBsaSA9IGRvY3VtZW50LmNyZWF0ZUVsZW1lbnQoJ2xpJyk7CiAgICBsaS5hcHBlbmQoc3BhbihmaWxlLm5hbWUsIHtmb250V2VpZ2h0OiAnYm9sZCd9KSk7CiAgICBsaS5hcHBlbmQoc3BhbigKICAgICAgICBgKCR7ZmlsZS50eXBlIHx8ICduL2EnfSkgLSAke2ZpbGUuc2l6ZX0gYnl0ZXMsIGAgKwogICAgICAgIGBsYXN0IG1vZGlmaWVkOiAkewogICAgICAgICAgICBmaWxlLmxhc3RNb2RpZmllZERhdGUgPyBmaWxlLmxhc3RNb2RpZmllZERhdGUudG9Mb2NhbGVEYXRlU3RyaW5nKCkgOgogICAgICAgICAgICAgICAgICAgICAgICAgICAgICAgICAgICAnbi9hJ30gLSBgKSk7CiAgICBjb25zdCBwZXJjZW50ID0gc3BhbignMCUgZG9uZScpOwogICAgbGkuYXBwZW5kQ2hpbGQocGVyY2VudCk7CgogICAgb3V0cHV0RWxlbWVudC5hcHBlbmRDaGlsZChsaSk7CgogICAgY29uc3QgZmlsZURhdGFQcm9taXNlID0gbmV3IFByb21pc2UoKHJlc29sdmUpID0+IHsKICAgICAgY29uc3QgcmVhZGVyID0gbmV3IEZpbGVSZWFkZXIoKTsKICAgICAgcmVhZGVyLm9ubG9hZCA9IChlKSA9PiB7CiAgICAgICAgcmVzb2x2ZShlLnRhcmdldC5yZXN1bHQpOwogICAgICB9OwogICAgICByZWFkZXIucmVhZEFzQXJyYXlCdWZmZXIoZmlsZSk7CiAgICB9KTsKICAgIC8vIFdhaXQgZm9yIHRoZSBkYXRhIHRvIGJlIHJlYWR5LgogICAgbGV0IGZpbGVEYXRhID0geWllbGQgewogICAgICBwcm9taXNlOiBmaWxlRGF0YVByb21pc2UsCiAgICAgIHJlc3BvbnNlOiB7CiAgICAgICAgYWN0aW9uOiAnY29udGludWUnLAogICAgICB9CiAgICB9OwoKICAgIC8vIFVzZSBhIGNodW5rZWQgc2VuZGluZyB0byBhdm9pZCBtZXNzYWdlIHNpemUgbGltaXRzLiBTZWUgYi82MjExNTY2MC4KICAgIGxldCBwb3NpdGlvbiA9IDA7CiAgICB3aGlsZSAocG9zaXRpb24gPCBmaWxlRGF0YS5ieXRlTGVuZ3RoKSB7CiAgICAgIGNvbnN0IGxlbmd0aCA9IE1hdGgubWluKGZpbGVEYXRhLmJ5dGVMZW5ndGggLSBwb3NpdGlvbiwgTUFYX1BBWUxPQURfU0laRSk7CiAgICAgIGNvbnN0IGNodW5rID0gbmV3IFVpbnQ4QXJyYXkoZmlsZURhdGEsIHBvc2l0aW9uLCBsZW5ndGgpOwogICAgICBwb3NpdGlvbiArPSBsZW5ndGg7CgogICAgICBjb25zdCBiYXNlNjQgPSBidG9hKFN0cmluZy5mcm9tQ2hhckNvZGUuYXBwbHkobnVsbCwgY2h1bmspKTsKICAgICAgeWllbGQgewogICAgICAgIHJlc3BvbnNlOiB7CiAgICAgICAgICBhY3Rpb246ICdhcHBlbmQnLAogICAgICAgICAgZmlsZTogZmlsZS5uYW1lLAogICAgICAgICAgZGF0YTogYmFzZTY0LAogICAgICAgIH0sCiAgICAgIH07CiAgICAgIHBlcmNlbnQudGV4dENvbnRlbnQgPQogICAgICAgICAgYCR7TWF0aC5yb3VuZCgocG9zaXRpb24gLyBmaWxlRGF0YS5ieXRlTGVuZ3RoKSAqIDEwMCl9JSBkb25lYDsKICAgIH0KICB9CgogIC8vIEFsbCBkb25lLgogIHlpZWxkIHsKICAgIHJlc3BvbnNlOiB7CiAgICAgIGFjdGlvbjogJ2NvbXBsZXRlJywKICAgIH0KICB9Owp9CgpzY29wZS5nb29nbGUgPSBzY29wZS5nb29nbGUgfHwge307CnNjb3BlLmdvb2dsZS5jb2xhYiA9IHNjb3BlLmdvb2dsZS5jb2xhYiB8fCB7fTsKc2NvcGUuZ29vZ2xlLmNvbGFiLl9maWxlcyA9IHsKICBfdXBsb2FkRmlsZXMsCiAgX3VwbG9hZEZpbGVzQ29udGludWUsCn07Cn0pKHNlbGYpOwo=",
              "ok": true,
              "headers": [
                [
                  "content-type",
                  "application/javascript"
                ]
              ],
              "status": 200,
              "status_text": ""
            }
          },
          "base_uri": "https://localhost:8080/",
          "height": 142
        }
      },
      "source": [
        "from google.colab import files\n",
        "\n",
        "uploaded = files.upload()\n",
        "\n",
        "for fn in uploaded.keys():\n",
        "  print('User uploaded file \"{name}\" with length {length} bytes'.format(\n",
        "      name=fn, length=len(uploaded[fn])))"
      ],
      "execution_count": 82,
      "outputs": [
        {
          "output_type": "display_data",
          "data": {
            "text/html": [
              "\n",
              "     <input type=\"file\" id=\"files-984e4d82-4779-4774-aa9f-9c6688c16011\" name=\"files[]\" multiple disabled />\n",
              "     <output id=\"result-984e4d82-4779-4774-aa9f-9c6688c16011\">\n",
              "      Upload widget is only available when the cell has been executed in the\n",
              "      current browser session. Please rerun this cell to enable.\n",
              "      </output>\n",
              "      <script src=\"/nbextensions/google.colab/files.js\"></script> "
            ],
            "text/plain": [
              "<IPython.core.display.HTML object>"
            ]
          },
          "metadata": {
            "tags": []
          }
        },
        {
          "output_type": "stream",
          "text": [
            "Saving ex2data1.txt to ex2data1 (1).txt\n",
            "Saving ex2data2.txt to ex2data2 (1).txt\n",
            "User uploaded file \"ex2data1.txt\" with length 3775 bytes\n",
            "User uploaded file \"ex2data2.txt\" with length 2233 bytes\n"
          ],
          "name": "stdout"
        }
      ]
    },
    {
      "cell_type": "markdown",
      "metadata": {
        "id": "vLccVG6oPPws",
        "colab_type": "text"
      },
      "source": [
        "## Getting the Data"
      ]
    },
    {
      "cell_type": "code",
      "metadata": {
        "id": "Bejrn82r6Kpa",
        "colab_type": "code",
        "colab": {}
      },
      "source": [
        "def get_data(filename, seperator):\n",
        "  if filename[-4:]=='.txt':\n",
        "    df = pd.read_csv(filename, sep=seperator, header=None)\n",
        "    m = len(df)        \n",
        "    X = df[df.columns[:-1]]\n",
        "    y = df[df.columns[-1]].to_numpy().reshape(m,1)\n",
        "#    onez = np.ones((m,1))\n",
        "#    X = np.hstack((onez, X))\n",
        "    return X, y, m"
      ],
      "execution_count": 0,
      "outputs": []
    },
    {
      "cell_type": "markdown",
      "metadata": {
        "id": "A0DN1Z2TPT8X",
        "colab_type": "text"
      },
      "source": [
        "## Visualizing the Data"
      ]
    },
    {
      "cell_type": "code",
      "metadata": {
        "id": "L62-15B-6CtW",
        "colab_type": "code",
        "outputId": "e6157ded-afb1-469b-844e-8ce29e38067b",
        "colab": {
          "base_uri": "https://localhost:8080/",
          "height": 374
        }
      },
      "source": [
        "X, y, m = get_data(\"ex2data1.txt\", ',')\n",
        "plt.figure(figsize=(10, 6))\n",
        "plt.scatter(X[y == 0][0], X[y == 0][1], color='b', label='0')\n",
        "plt.scatter(X[y == 1][0], X[y == 1][1], color='r', label='1')\n",
        "plt.legend();"
      ],
      "execution_count": 138,
      "outputs": [
        {
          "output_type": "display_data",
          "data": {
            "image/png": "[encoded data removed]",
            "text/plain": [
              "<Figure size 720x432 with 1 Axes>"
            ]
          },
          "metadata": {
            "tags": []
          }
        }
      ]
    },
    {
      "cell_type": "code",
      "metadata": {
        "id": "_wQX75YL6Ctd",
        "colab_type": "code",
        "colab": {}
      },
      "source": [
        "class LogisticRegression:\n",
        "    def __init__(self, lr=0.01, num_iter=100000, fit_intercept=True, verbose=False, regularization=False, reg_lambdaa=0.3):\n",
        "        self.lr = lr\n",
        "        self.num_iter = num_iter\n",
        "        self.fit_intercept = fit_intercept\n",
        "        self.verbose = verbose\n",
        "        self.regularization = regularization\n",
        "        self.lambdaa = reg_lambdaa\n",
        "\n",
        "    def __add_intercept(self, X):\n",
        "        intercept = np.ones((X.shape[0], 1))\n",
        "        return np.concatenate((intercept, X), axis=1)\n",
        "    \n",
        "    def __sigmoid(self, z):\n",
        "        return 1 / (1 + np.exp(-z))\n",
        "    def __loss(self, h, y):\n",
        "        return (-y * np.log(h) - (1 - y) * np.log(1 - h)).mean()\n",
        "    \n",
        "    def fit(self, X, y):\n",
        "        if self.fit_intercept:\n",
        "            X = self.__add_intercept(X)\n",
        "        \n",
        "        # weights initialization\n",
        "        self.theta = np.zeros((X.shape[1],1))\n",
        "        \n",
        "        for i in range(self.num_iter):\n",
        "            z = np.dot(X, self.theta)\n",
        "            h = self.__sigmoid(z)\n",
        "\n",
        "            m = y.size\n",
        "\n",
        "\n",
        "            gradient = np.dot(X.T, (h - y)) / m\n",
        "\n",
        "#            reg            \n",
        "#            self.theta = self.theta * (1 - self.lr * (self.lambdaa / m)) - (self.lr * gradient)\n",
        "#            no reg\n",
        "#            self.theta = self.theta - (self.lr * gradient)\n",
        "\n",
        "            if (self.regularization == True):\n",
        "                self.theta = self.theta * (1 - self.lr * (self.lambdaa / m))\n",
        "            \n",
        "            self.theta -= self.lr * gradient\n",
        "            \n",
        "            z = np.dot(X, self.theta)\n",
        "            h = self.__sigmoid(z)\n",
        "            loss = self.__loss(h, y)\n",
        "\n",
        "            if (self.regularization == True):\n",
        "                penalty = (self.lambdaa/(2*len(y))) * np.sum(np.square(self.theta))\n",
        "                loss = loss + penalty\n",
        "                \n",
        "            if(self.verbose == True and i % 50000 == 0):\n",
        "                # print('penalty= ',penalty)\n",
        "                print('Iter: {} loss: {} \\t'.format(i, loss))\n",
        "    \n",
        "    def predict_prob(self, X):\n",
        "        if self.fit_intercept:\n",
        "            X = self.__add_intercept(X)\n",
        "\n",
        "        return self.__sigmoid(np.dot(X, self.theta))\n",
        "    \n",
        "    def predict(self, X):\n",
        "        return self.predict_prob(X).round()\n",
        "\n",
        "    def predict_value(self, X):\n",
        "        return self.predict_prob(X)\n",
        "\n",
        "    def get_params(self):\n",
        "        return self.theta"
      ],
      "execution_count": 0,
      "outputs": []
    },
    {
      "cell_type": "markdown",
      "metadata": {
        "id": "E0nByr-sQFtL",
        "colab_type": "text"
      },
      "source": [
        "## Training the Model"
      ]
    },
    {
      "cell_type": "code",
      "metadata": {
        "id": "Mr2YUlN16Cth",
        "colab_type": "code",
        "outputId": "712f0e3d-31f0-4273-eec3-c423abedccd0",
        "colab": {
          "base_uri": "https://localhost:8080/",
          "height": 1000
        }
      },
      "source": [
        "model = LogisticRegression(lr=0.0013, num_iter=3000000, verbose=True)\n",
        "%time model.fit(X, y)"
      ],
      "execution_count": 139,
      "outputs": [
        {
          "output_type": "stream",
          "text": [
            "Iter: 0 loss: 0.7810770510404735 \t\n",
            "Iter: 50000 loss: 0.48636145635600164 \t\n",
            "Iter: 100000 loss: 0.35300613569804234 \t\n",
            "Iter: 150000 loss: 0.3154833646094583 \t\n",
            "Iter: 200000 loss: 0.2922880618506209 \t\n",
            "Iter: 250000 loss: 0.2764946138885583 \t\n",
            "Iter: 300000 loss: 0.2650276089084765 \t\n",
            "Iter: 350000 loss: 0.2563157897471435 \t\n",
            "Iter: 400000 loss: 0.2494715338639345 \t\n",
            "Iter: 450000 loss: 0.2439544178915657 \t\n",
            "Iter: 500000 loss: 0.23941584657198167 \t\n",
            "Iter: 550000 loss: 0.235620425711389 \t\n",
            "Iter: 600000 loss: 0.23240318711947747 \t\n",
            "Iter: 650000 loss: 0.22964491451238206 \t\n",
            "Iter: 700000 loss: 0.22725720571778266 \t\n",
            "Iter: 750000 loss: 0.22517305487363115 \t\n",
            "Iter: 800000 loss: 0.22334070628460914 \t\n",
            "Iter: 850000 loss: 0.2217195224073122 \t\n",
            "Iter: 900000 loss: 0.22027713318299078 \t\n",
            "Iter: 950000 loss: 0.21898742424978274 \t\n",
            "Iter: 1000000 loss: 0.21782908840309823 \t\n",
            "Iter: 1050000 loss: 0.21678456380751943 \t\n",
            "Iter: 1100000 loss: 0.21583924313887798 \t\n",
            "Iter: 1150000 loss: 0.21498087596517898 \t\n",
            "Iter: 1200000 loss: 0.21419911121139446 \t\n",
            "Iter: 1250000 loss: 0.21348514268375912 \t\n",
            "Iter: 1300000 loss: 0.2128314314412498 \t\n",
            "Iter: 1350000 loss: 0.21223148617865717 \t\n",
            "Iter: 1400000 loss: 0.21167968790041702 \t\n",
            "Iter: 1450000 loss: 0.21117114876401655 \t\n",
            "Iter: 1500000 loss: 0.21070159754007897 \t\n",
            "Iter: 1550000 loss: 0.21026728599189615 \t\n",
            "Iter: 1600000 loss: 0.20986491183397124 \t\n",
            "Iter: 1650000 loss: 0.2094915549319077 \t\n",
            "Iter: 1700000 loss: 0.20914462415479534 \t\n",
            "Iter: 1750000 loss: 0.2088218128556923 \t\n",
            "Iter: 1800000 loss: 0.2085210613851377 \t\n",
            "Iter: 1850000 loss: 0.20824052537189547 \t\n",
            "Iter: 1900000 loss: 0.20797854875967314 \t\n",
            "Iter: 1950000 loss: 0.20773364078676232 \t\n",
            "Iter: 2000000 loss: 0.2075044562510229 \t\n",
            "Iter: 2050000 loss: 0.20728977852531194 \t\n",
            "Iter: 2100000 loss: 0.20708850488597796 \t\n",
            "Iter: 2150000 loss: 0.20689963379488094 \t\n",
            "Iter: 2200000 loss: 0.2067222538380482 \t\n",
            "Iter: 2250000 loss: 0.20655553407459834 \t\n",
            "Iter: 2300000 loss: 0.2063987155906488 \t\n",
            "Iter: 2350000 loss: 0.20625110408642533 \t\n",
            "Iter: 2400000 loss: 0.2061120633522457 \t\n",
            "Iter: 2450000 loss: 0.20598100951167608 \t\n",
            "Iter: 2500000 loss: 0.20585740592883783 \t\n",
            "Iter: 2550000 loss: 0.20574075869237718 \t\n",
            "Iter: 2600000 loss: 0.20563061260154417 \t\n",
            "Iter: 2650000 loss: 0.20552654759063327 \t\n",
            "Iter: 2700000 loss: 0.20542817553713896 \t\n",
            "Iter: 2750000 loss: 0.2053351374066147 \t\n",
            "Iter: 2800000 loss: 0.20524710069370602 \t\n",
            "Iter: 2850000 loss: 0.20516375712427923 \t\n",
            "Iter: 2900000 loss: 0.20508482058826671 \t\n",
            "Iter: 2950000 loss: 0.20501002527679077 \t\n",
            "CPU times: user 2min 26s, sys: 672 ms, total: 2min 27s\n",
            "Wall time: 2min 26s\n"
          ],
          "name": "stdout"
        }
      ]
    },
    {
      "cell_type": "markdown",
      "metadata": {
        "id": "FjRC3aIPQBW4",
        "colab_type": "text"
      },
      "source": [
        "## Accuracy"
      ]
    },
    {
      "cell_type": "code",
      "metadata": {
        "id": "J28Fn1t86Ctr",
        "colab_type": "code",
        "outputId": "4aec2a24-6ffc-4837-a8a6-6a1ff006fa0e",
        "colab": {
          "base_uri": "https://localhost:8080/",
          "height": 34
        }
      },
      "source": [
        "preds = model.predict(X)\n",
        "(preds == y).mean()"
      ],
      "execution_count": 140,
      "outputs": [
        {
          "output_type": "execute_result",
          "data": {
            "text/plain": [
              "0.89"
            ]
          },
          "metadata": {
            "tags": []
          },
          "execution_count": 140
        }
      ]
    },
    {
      "cell_type": "code",
      "metadata": {
        "id": "pmlovcKt6Ctx",
        "colab_type": "code",
        "outputId": "53dee907-b826-456a-9071-a28d97cb2a7b",
        "colab": {
          "base_uri": "https://localhost:8080/",
          "height": 68
        }
      },
      "source": [
        "model.theta"
      ],
      "execution_count": 141,
      "outputs": [
        {
          "output_type": "execute_result",
          "data": {
            "text/plain": [
              "array([[-22.20849042],\n",
              "       [  0.182625  ],\n",
              "       [  0.17757141]])"
            ]
          },
          "metadata": {
            "tags": []
          },
          "execution_count": 141
        }
      ]
    },
    {
      "cell_type": "markdown",
      "metadata": {
        "id": "EllKlc7PQMfK",
        "colab_type": "text"
      },
      "source": [
        "## Plotting the Decision Boundary"
      ]
    },
    {
      "cell_type": "code",
      "metadata": {
        "id": "EnVuheiW6Ct6",
        "colab_type": "code",
        "outputId": "0a749439-8f79-4838-83f3-fdaad85a7491",
        "colab": {
          "base_uri": "https://localhost:8080/",
          "height": 374
        }
      },
      "source": [
        "plt.figure(figsize=(10, 6))\n",
        "plt.scatter(X[y == 0][0], X[y == 0][1], color='b', label='0')\n",
        "plt.scatter(X[y == 1][0], X[y == 1][1], color='r', label='1')\n",
        "plt.legend()\n",
        "\n",
        "ax = plt.gca()\n",
        "ax.autoscale(False)\n",
        "\n",
        "x1_min, x1_max = X[0].min()-5, X[0].max()+5,\n",
        "x2_min, x2_max = X[1].min()-5, X[1].max()+5,\n",
        "xx1, xx2 = np.meshgrid(np.linspace(x1_min, x1_max), np.linspace(x2_min, x2_max))\n",
        "grid = np.c_[xx1.ravel(), xx2.ravel()]\n",
        "probs = model.predict_prob(grid).reshape(xx1.shape)\n",
        "plt.contour(xx1, xx2, probs, [0.5], linewidths=1, colors='black');\n",
        "plt.show()"
      ],
      "execution_count": 142,
      "outputs": [
        {
          "output_type": "display_data",
          "data": {
            "image/png": "[encoded data removed]",
            "text/plain": [
              "<Figure size 720x432 with 1 Axes>"
            ]
          },
          "metadata": {
            "tags": []
          }
        }
      ]
    },
    {
      "cell_type": "markdown",
      "metadata": {
        "id": "Q6q_1h71K2uI",
        "colab_type": "text"
      },
      "source": [
        "## Predicting Values"
      ]
    },
    {
      "cell_type": "code",
      "metadata": {
        "id": "3l1mqQXL-JQI",
        "colab_type": "code",
        "outputId": "6436ee81-162d-425e-b6b1-fd7671dd2d68",
        "colab": {
          "base_uri": "https://localhost:8080/",
          "height": 34
        }
      },
      "source": [
        "praa = model.predict_value(np.array([[45, 85]]))\n",
        "praa"
      ],
      "execution_count": 90,
      "outputs": [
        {
          "output_type": "execute_result",
          "data": {
            "text/plain": [
              "array([[0.75086006]])"
            ]
          },
          "metadata": {
            "tags": []
          },
          "execution_count": 90
        }
      ]
    },
    {
      "cell_type": "markdown",
      "metadata": {
        "id": "d5Lg59pDO0CJ",
        "colab_type": "text"
      },
      "source": [
        "# Regularized Logistic Regression"
      ]
    },
    {
      "cell_type": "markdown",
      "metadata": {
        "id": "3oMG9xcTXw--",
        "colab_type": "text"
      },
      "source": [
        "## Getting the Data\n",
        "## Visualizing the Data"
      ]
    },
    {
      "cell_type": "code",
      "metadata": {
        "id": "ORWfFZpiPGsU",
        "colab_type": "code",
        "outputId": "4d04750e-905a-4cc7-c29d-c5c5003ea2aa",
        "colab": {
          "base_uri": "https://localhost:8080/",
          "height": 374
        }
      },
      "source": [
        "X, y, m = get_data(\"ex2data2.txt\", ',')\n",
        "plt.figure(figsize=(6, 6))\n",
        "plt.scatter(X[y == 0][0], X[y == 0][1], color='y', label='0')\n",
        "plt.scatter(X[y == 1][0], X[y == 1][1], color='b', label='1')\n",
        "plt.legend();"
      ],
      "execution_count": 91,
      "outputs": [
        {
          "output_type": "display_data",
          "data": {
            "image/png": "[encoded data removed]",
            "text/plain": [
              "<Figure size 432x432 with 1 Axes>"
            ]
          },
          "metadata": {
            "tags": []
          }
        }
      ]
    },
    {
      "cell_type": "markdown",
      "metadata": {
        "id": "ypl9uwpahSvt",
        "colab_type": "text"
      },
      "source": [
        "## Introducing Polynomial Features"
      ]
    },
    {
      "cell_type": "code",
      "metadata": {
        "id": "TVOgMsUQSSDz",
        "colab_type": "code",
        "outputId": "215dde12-0bb3-4df9-90a2-d961c4611b5b",
        "colab": {
          "base_uri": "https://localhost:8080/",
          "height": 34
        }
      },
      "source": [
        "polynomial_features = [(i,high-i) for high in range(1,7) for i in range(high,-1, -1)]\n",
        "polynomial_features = polynomial_features[2:]\n",
        "#polynomial_features.append((0,0))\n",
        "print(len(polynomial_features))"
      ],
      "execution_count": 92,
      "outputs": [
        {
          "output_type": "stream",
          "text": [
            "25\n"
          ],
          "name": "stdout"
        }
      ]
    },
    {
      "cell_type": "code",
      "metadata": {
        "id": "9-3ksCxJPVyU",
        "colab_type": "code",
        "outputId": "8a861637-0e29-4c26-baaa-674524db39d2",
        "colab": {
          "base_uri": "https://localhost:8080/",
          "height": 34
        }
      },
      "source": [
        "newX = X\n",
        "i=0\n",
        "for ft in polynomial_features:\n",
        "  newX[str(i)] = (X[0] ** ft[0]) * (X[1] ** ft[1])\n",
        "  i = i + 1\n",
        "\n",
        "X = newX\n",
        "X.shape"
      ],
      "execution_count": 93,
      "outputs": [
        {
          "output_type": "execute_result",
          "data": {
            "text/plain": [
              "(118, 27)"
            ]
          },
          "metadata": {
            "tags": []
          },
          "execution_count": 93
        }
      ]
    },
    {
      "cell_type": "markdown",
      "metadata": {
        "id": "hM_T0tF7PksB",
        "colab_type": "text"
      },
      "source": [
        "## Training the Models"
      ]
    },
    {
      "cell_type": "markdown",
      "metadata": {
        "id": "cQ8ESHPxVbXC",
        "colab_type": "text"
      },
      "source": [
        "## Lambda = 0"
      ]
    },
    {
      "cell_type": "code",
      "metadata": {
        "id": "KgbPbhGdRzN2",
        "colab_type": "code",
        "outputId": "4c07d0de-0a6f-4aef-8fc5-bf5931158309",
        "colab": {
          "base_uri": "https://localhost:8080/",
          "height": 561
        }
      },
      "source": [
        "model = LogisticRegression(lr=1, num_iter=1500000, verbose=True, regularization=True, reg_lambdaa=0)\n",
        "%time model.fit(X, y)"
      ],
      "execution_count": 123,
      "outputs": [
        {
          "output_type": "stream",
          "text": [
            "Iter: 0 loss: 0.681237315087989 \t\n",
            "Iter: 50000 loss: 0.29963873639874306 \t\n",
            "Iter: 100000 loss: 0.2938030390837169 \t\n",
            "Iter: 150000 loss: 0.2906096398541928 \t\n",
            "Iter: 200000 loss: 0.28842567957602516 \t\n",
            "Iter: 250000 loss: 0.2867785641168251 \t\n",
            "Iter: 300000 loss: 0.2854636232405871 \t\n",
            "Iter: 350000 loss: 0.28437269755466654 \t\n",
            "Iter: 400000 loss: 0.28344195098857977 \t\n",
            "Iter: 450000 loss: 0.2826309667566863 \t\n",
            "Iter: 500000 loss: 0.28191281632802173 \t\n",
            "Iter: 550000 loss: 0.28126880558615547 \t\n",
            "Iter: 600000 loss: 0.2806854919846541 \t\n",
            "Iter: 650000 loss: 0.2801529046204969 \t\n",
            "Iter: 700000 loss: 0.2796634407714021 \t\n",
            "Iter: 750000 loss: 0.2792111597911257 \t\n",
            "Iter: 800000 loss: 0.278791318508204 \t\n",
            "Iter: 850000 loss: 0.2784000576532401 \t\n",
            "Iter: 900000 loss: 0.2780341851453987 \t\n",
            "Iter: 950000 loss: 0.2776910229470944 \t\n",
            "Iter: 1000000 loss: 0.2773682965465975 \t\n",
            "Iter: 1050000 loss: 0.2770640536131162 \t\n",
            "Iter: 1100000 loss: 0.27677660300397233 \t\n",
            "Iter: 1150000 loss: 0.27650446823170194 \t\n",
            "Iter: 1200000 loss: 0.276246351383926 \t\n",
            "Iter: 1250000 loss: 0.27600110472416206 \t\n",
            "Iter: 1300000 loss: 0.2757677080251629 \t\n",
            "Iter: 1350000 loss: 0.27554525024415566 \t\n",
            "Iter: 1400000 loss: 0.27533291453299946 \t\n",
            "Iter: 1450000 loss: 0.275129965844004 \t\n",
            "CPU times: user 1min 35s, sys: 318 ms, total: 1min 36s\n",
            "Wall time: 1min 35s\n"
          ],
          "name": "stdout"
        }
      ]
    },
    {
      "cell_type": "markdown",
      "metadata": {
        "id": "SK4tmUTOQWwA",
        "colab_type": "text"
      },
      "source": [
        "Computing Accuracy"
      ]
    },
    {
      "cell_type": "code",
      "metadata": {
        "id": "4j2u-jqqiu_z",
        "colab_type": "code",
        "outputId": "2697f1a6-21a9-4349-b424-22eb437ba970",
        "colab": {
          "base_uri": "https://localhost:8080/",
          "height": 34
        }
      },
      "source": [
        "preds = model.predict(X)\n",
        "(preds == y).mean()"
      ],
      "execution_count": 124,
      "outputs": [
        {
          "output_type": "execute_result",
          "data": {
            "text/plain": [
              "0.8728813559322034"
            ]
          },
          "metadata": {
            "tags": []
          },
          "execution_count": 124
        }
      ]
    },
    {
      "cell_type": "markdown",
      "metadata": {
        "id": "w3dff1p5AQoS",
        "colab_type": "text"
      },
      "source": [
        "## Plotting Decision Boundary"
      ]
    },
    {
      "cell_type": "code",
      "metadata": {
        "id": "3r7ZOhZuTmLP",
        "colab_type": "code",
        "colab": {}
      },
      "source": [
        "grid = np.zeros([2500,27])"
      ],
      "execution_count": 0,
      "outputs": []
    },
    {
      "cell_type": "code",
      "metadata": {
        "id": "M3mmtVusqOck",
        "colab_type": "code",
        "colab": {}
      },
      "source": [
        "xx1, xx2 = np.meshgrid(np.linspace(X['0'].min()-5,X['0'].max()+5), np.linspace(X['1'].min()-5, X['1'].max()+5))\n",
        "grid[:,0:2] = np.c_[xx1.ravel(), xx2.ravel()]\n",
        "#print(grid.shape)\n",
        "for i in range(len(polynomial_features[2:])):\n",
        "#              (    xx1    **       x1power       )       * (    xx2   **         x2power         )\n",
        "  grid[:,i+2] = (grid[:,0] ** polynomial_features[i][0])  * (grid[:,1] ** polynomial_features[i][1])"
      ],
      "execution_count": 0,
      "outputs": []
    },
    {
      "cell_type": "code",
      "metadata": {
        "id": "0_-JDPQniaAQ",
        "colab_type": "code",
        "outputId": "05da7803-ef1a-41b6-bcbb-d7bff28f4fcc",
        "colab": {
          "base_uri": "https://localhost:8080/",
          "height": 408
        }
      },
      "source": [
        "plt.figure(figsize=(6, 6))\n",
        "plt.scatter(X[y == 0][0], X[y == 0][1], color='y', label='0')\n",
        "plt.scatter(X[y == 1][0], X[y == 1][1], color='b', label='1')\n",
        "plt.legend()\n",
        "\n",
        "ax = plt.gca()\n",
        "ax.autoscale(False)\n",
        "\n",
        "probs = model.predict_prob(grid).reshape(xx1.shape)\n",
        "#probs = model.predict_prob(pred_X).reshape(xx1.shape)\n",
        "plt.contour(xx1, xx2, probs, [0.5], linewidths=1, colors='black');\n",
        "plt.show()"
      ],
      "execution_count": 127,
      "outputs": [
        {
          "output_type": "stream",
          "text": [
            "/usr/local/lib/python3.6/dist-packages/ipykernel_launcher.py:15: RuntimeWarning: overflow encountered in exp\n",
            "  from ipykernel import kernelapp as app\n"
          ],
          "name": "stderr"
        },
        {
          "output_type": "display_data",
          "data": {
            "image/png": "[encoded data removed]",
            "text/plain": [
              "<Figure size 432x432 with 1 Axes>"
            ]
          },
          "metadata": {
            "tags": []
          }
        }
      ]
    },
    {
      "cell_type": "markdown",
      "metadata": {
        "id": "wEeNOXd_Qacy",
        "colab_type": "text"
      },
      "source": [
        "### Lambda = 1"
      ]
    },
    {
      "cell_type": "code",
      "metadata": {
        "id": "PHGrB1c7in9j",
        "colab_type": "code",
        "outputId": "8715e16a-562d-4b86-e034-25c1348198fd",
        "colab": {
          "base_uri": "https://localhost:8080/",
          "height": 102
        }
      },
      "source": [
        "model = LogisticRegression(lr=0.9, num_iter=150000, verbose=True, regularization=True, reg_lambdaa=1)\n",
        "%time model.fit(X, y)"
      ],
      "execution_count": 128,
      "outputs": [
        {
          "output_type": "stream",
          "text": [
            "Iter: 0 loss: 0.682392235890326 \t\n",
            "Iter: 50000 loss: 0.5351602503808913 \t\n",
            "Iter: 100000 loss: 0.5351602503808913 \t\n",
            "CPU times: user 9.33 s, sys: 12.8 ms, total: 9.34 s\n",
            "Wall time: 9.35 s\n"
          ],
          "name": "stdout"
        }
      ]
    },
    {
      "cell_type": "code",
      "metadata": {
        "id": "4V8xZTssQpLC",
        "colab_type": "code",
        "outputId": "38a5efe8-58c9-49c6-811f-33c403849c4d",
        "colab": {
          "base_uri": "https://localhost:8080/",
          "height": 425
        }
      },
      "source": [
        "xx1, xx2 = np.meshgrid(np.linspace(X['0'].min()-5,X['0'].max()+5), np.linspace(X['1'].min()-5, X['1'].max()+5))\n",
        "grid = np.c_[xx1.ravel(), xx2.ravel()]\n",
        "print(grid.shape)\n",
        "\n",
        "grid = np.zeros([2500,27])\n",
        "grid[:,0]=xx1.ravel()\n",
        "grid[:,1]=xx2.ravel()\n",
        "\n",
        "for i in range(len(polynomial_features[2:])):\n",
        "  grid[:,i+2] = (grid[:,0] ** polynomial_features[i][0])  * (grid[:,1] ** polynomial_features[i][1])\n",
        "\n",
        "plt.figure(figsize=(6, 6))\n",
        "plt.scatter(X[y == 0][0], X[y == 0][1], color='y', label='0')\n",
        "plt.scatter(X[y == 1][0], X[y == 1][1], color='b', label='1')\n",
        "plt.legend()\n",
        "\n",
        "ax = plt.gca()\n",
        "ax.autoscale(False)\n",
        "\n",
        "probs = model.predict_prob(grid).reshape(xx1.shape)\n",
        "#probs = model.predict_prob(pred_X).reshape(xx1.shape)\n",
        "plt.contour(xx1, xx2, probs, [0.5], linewidths=1, colors='black');\n",
        "plt.show()"
      ],
      "execution_count": 129,
      "outputs": [
        {
          "output_type": "stream",
          "text": [
            "(2500, 2)\n"
          ],
          "name": "stdout"
        },
        {
          "output_type": "stream",
          "text": [
            "/usr/local/lib/python3.6/dist-packages/ipykernel_launcher.py:15: RuntimeWarning: overflow encountered in exp\n",
            "  from ipykernel import kernelapp as app\n"
          ],
          "name": "stderr"
        },
        {
          "output_type": "display_data",
          "data": {
            "image/png": "[encoded data removed]",
            "text/plain": [
              "<Figure size 432x432 with 1 Axes>"
            ]
          },
          "metadata": {
            "tags": []
          }
        }
      ]
    },
    {
      "cell_type": "markdown",
      "metadata": {
        "id": "dxpwESZCRYNf",
        "colab_type": "text"
      },
      "source": [
        "### Lambda = 100"
      ]
    },
    {
      "cell_type": "code",
      "metadata": {
        "id": "Mk4xbhQhQ0Ub",
        "colab_type": "code",
        "outputId": "3e0fe51a-3042-491b-f351-ef1f77a26dfe",
        "colab": {
          "base_uri": "https://localhost:8080/",
          "height": 102
        }
      },
      "source": [
        "model = LogisticRegression(lr=0.5, num_iter=150000, verbose=True, regularization=True, reg_lambdaa=30)\n",
        "%time model.fit(X, y)"
      ],
      "execution_count": 136,
      "outputs": [
        {
          "output_type": "stream",
          "text": [
            "Iter: 0 loss: 0.6873765596963827 \t\n",
            "Iter: 50000 loss: 0.6747949583055147 \t\n",
            "Iter: 100000 loss: 0.6747949583055147 \t\n",
            "CPU times: user 9.33 s, sys: 12.9 ms, total: 9.35 s\n",
            "Wall time: 9.34 s\n"
          ],
          "name": "stdout"
        }
      ]
    },
    {
      "cell_type": "code",
      "metadata": {
        "id": "D-g8hhkiReoa",
        "colab_type": "code",
        "outputId": "059d7e8c-b90c-4c12-ec03-93cfc28458bc",
        "colab": {
          "base_uri": "https://localhost:8080/",
          "height": 425
        }
      },
      "source": [
        "xx1, xx2 = np.meshgrid(np.linspace(X['0'].min()-5,X['0'].max()+5), np.linspace(X['1'].min()-5, X['1'].max()+5))\n",
        "grid = np.c_[xx1.ravel(), xx2.ravel()]\n",
        "print(grid.shape)\n",
        "\n",
        "grid = np.zeros([2500,27])\n",
        "grid[:,0]=xx1.ravel()\n",
        "grid[:,1]=xx2.ravel()\n",
        "\n",
        "for i in range(len(polynomial_features[2:])):\n",
        "  grid[:,i+2] = (grid[:,0] ** polynomial_features[i][0])  * (grid[:,1] ** polynomial_features[i][1])\n",
        "\n",
        "plt.figure(figsize=(6, 6))\n",
        "plt.scatter(X[y == 0][0], X[y == 0][1], color='y', label='0')\n",
        "plt.scatter(X[y == 1][0], X[y == 1][1], color='b', label='1')\n",
        "plt.legend()\n",
        "\n",
        "ax = plt.gca()\n",
        "ax.autoscale(False)\n",
        "\n",
        "probs = model.predict_prob(grid).reshape(xx1.shape)\n",
        "#probs = model.predict_prob(pred_X).reshape(xx1.shape)\n",
        "plt.contour(xx1, xx2, probs, [0.5], linewidths=1, colors='black');\n",
        "plt.show()"
      ],
      "execution_count": 137,
      "outputs": [
        {
          "output_type": "stream",
          "text": [
            "(2500, 2)\n"
          ],
          "name": "stdout"
        },
        {
          "output_type": "stream",
          "text": [
            "/usr/local/lib/python3.6/dist-packages/ipykernel_launcher.py:15: RuntimeWarning: overflow encountered in exp\n",
            "  from ipykernel import kernelapp as app\n"
          ],
          "name": "stderr"
        },
        {
          "output_type": "display_data",
          "data": {
            "image/png": "[encoded data removed]",
            "text/plain": [
              "<Figure size 432x432 with 1 Axes>"
            ]
          },
          "metadata": {
            "tags": []
          }
        }
      ]
    }
  ]
}